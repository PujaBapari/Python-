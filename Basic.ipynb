{
  "nbformat": 4,
  "nbformat_minor": 0,
  "metadata": {
    "colab": {
      "provenance": [],
      "include_colab_link": true
    },
    "kernelspec": {
      "name": "python3",
      "display_name": "Python 3"
    },
    "language_info": {
      "name": "python"
    }
  },
  "cells": [
    {
      "cell_type": "markdown",
      "metadata": {
        "id": "view-in-github",
        "colab_type": "text"
      },
      "source": [
        "<a href=\"https://colab.research.google.com/github/PujaBapari/Python-/blob/main/Basic.ipynb\" target=\"_parent\"><img src=\"https://colab.research.google.com/assets/colab-badge.svg\" alt=\"Open In Colab\"/></a>"
      ]
    },
    {
      "cell_type": "markdown",
      "source": [
        "**What is Python ?**\n",
        "\n",
        "Python is a high-level, interpreted programming language known for its simplicity and readability\n"
      ],
      "metadata": {
        "id": "KZtfZevMBHwZ"
      }
    },
    {
      "cell_type": "code",
      "execution_count": null,
      "metadata": {
        "colab": {
          "base_uri": "https://localhost:8080/"
        },
        "id": "qcoHXRWP-K3g",
        "outputId": "52d89214-7b91-46a7-ff07-264335e90176"
      },
      "outputs": [
        {
          "output_type": "stream",
          "name": "stdout",
          "text": [
            "Hello World\n"
          ]
        }
      ],
      "source": [
        "print(\"Hello World\")"
      ]
    },
    {
      "cell_type": "code",
      "source": [
        "print(\"Puja Bapari\")"
      ],
      "metadata": {
        "id": "kiKiC1k1-RhP",
        "outputId": "75431c90-5a12-4510-cad6-7125a5edee5c",
        "colab": {
          "base_uri": "https://localhost:8080/"
        }
      },
      "execution_count": 2,
      "outputs": [
        {
          "output_type": "stream",
          "name": "stdout",
          "text": [
            "Puja Bapari\n"
          ]
        }
      ]
    },
    {
      "cell_type": "code",
      "source": [
        "print(1317933187)"
      ],
      "metadata": {
        "id": "izKLmI26EYRx",
        "outputId": "2662e5b8-f51c-48e6-8652-fe31ea99105b",
        "colab": {
          "base_uri": "https://localhost:8080/"
        }
      },
      "execution_count": 7,
      "outputs": [
        {
          "output_type": "stream",
          "name": "stdout",
          "text": [
            "1317933187\n"
          ]
        }
      ]
    },
    {
      "cell_type": "markdown",
      "source": [
        "**Comment**\n",
        "\n",
        "In Python, comments are used to explain.\n",
        "\n",
        "**Types**\n",
        "\n",
        " Single-line Comment (#)\n",
        "\n",
        " Multi-line Comment (Using \"\"\" \"\"\" or ''' ''')"
      ],
      "metadata": {
        "id": "SialmMdNFGvT"
      }
    },
    {
      "cell_type": "code",
      "source": [
        "# Python tutorial \"Hablu Programmer\"\n",
        "print(\"Hablu Programmer\")\n",
        "\n",
        "''' Modules\n",
        "1. Built-in\n",
        "2. User-defined\n",
        "3. Packages (Third-party, installed using pip)\n",
        "'''\n",
        "\n",
        "print(\"\"\"A module is a Python file that you import to use functions and classes.\n",
        "pip is a tool that installs external Python libraries/modules.\"\"\")\n",
        "\n"
      ],
      "metadata": {
        "id": "wn1zNXiBEhTW",
        "outputId": "38b05256-e499-4c6d-97d8-e1e8b802db94",
        "colab": {
          "base_uri": "https://localhost:8080/"
        }
      },
      "execution_count": 16,
      "outputs": [
        {
          "output_type": "stream",
          "name": "stdout",
          "text": [
            "Hablu Programmer\n",
            "A module is a Python file that you import to use functions and classes.\n",
            "pip is a tool that installs external Python libraries/modules.\n"
          ]
        }
      ]
    },
    {
      "cell_type": "code",
      "source": [],
      "metadata": {
        "id": "demjga1iG4dq"
      },
      "execution_count": null,
      "outputs": []
    }
  ]
}