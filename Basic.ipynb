{
  "nbformat": 4,
  "nbformat_minor": 0,
  "metadata": {
    "colab": {
      "provenance": [],
      "include_colab_link": true
    },
    "kernelspec": {
      "name": "python3",
      "display_name": "Python 3"
    },
    "language_info": {
      "name": "python"
    }
  },
  "cells": [
    {
      "cell_type": "markdown",
      "metadata": {
        "id": "view-in-github",
        "colab_type": "text"
      },
      "source": [
        "<a href=\"https://colab.research.google.com/github/PujaBapari/Python-/blob/main/Basic.ipynb\" target=\"_parent\"><img src=\"https://colab.research.google.com/assets/colab-badge.svg\" alt=\"Open In Colab\"/></a>"
      ]
    },
    {
      "cell_type": "markdown",
      "source": [
        "**What is Python ?**\n",
        "\n",
        "Python is a high-level, interpreted programming language known for its simplicity and readability\n"
      ],
      "metadata": {
        "id": "KZtfZevMBHwZ"
      }
    },
    {
      "cell_type": "code",
      "execution_count": null,
      "metadata": {
        "colab": {
          "base_uri": "https://localhost:8080/"
        },
        "id": "qcoHXRWP-K3g",
        "outputId": "52d89214-7b91-46a7-ff07-264335e90176"
      },
      "outputs": [
        {
          "output_type": "stream",
          "name": "stdout",
          "text": [
            "Hello World\n"
          ]
        }
      ],
      "source": [
        "print(\"Hello World\")"
      ]
    },
    {
      "cell_type": "code",
      "source": [
        "print(\"Puja Bapari\")"
      ],
      "metadata": {
        "id": "kiKiC1k1-RhP",
        "outputId": "75431c90-5a12-4510-cad6-7125a5edee5c",
        "colab": {
          "base_uri": "https://localhost:8080/"
        }
      },
      "execution_count": null,
      "outputs": [
        {
          "output_type": "stream",
          "name": "stdout",
          "text": [
            "Puja Bapari\n"
          ]
        }
      ]
    },
    {
      "cell_type": "code",
      "source": [
        "print(+8801317933187)"
      ],
      "metadata": {
        "colab": {
          "base_uri": "https://localhost:8080/"
        },
        "id": "izKLmI26EYRx",
        "outputId": "919bfb3c-8662-458c-b838-0c8e765a67c1"
      },
      "execution_count": null,
      "outputs": [
        {
          "output_type": "stream",
          "name": "stdout",
          "text": [
            "8801317933187\n"
          ]
        }
      ]
    },
    {
      "cell_type": "markdown",
      "source": [
        "**Comment**\n",
        "\n",
        "In Python, comments are used to explain.\n",
        "\n",
        "**Types**\n",
        "\n",
        " Single-line Comment (#)\n",
        "\n",
        " Multi-line Comment (Using \"\"\" \"\"\" or ''' ''')"
      ],
      "metadata": {
        "id": "SialmMdNFGvT"
      }
    },
    {
      "cell_type": "code",
      "source": [
        "# Python tutorial \"Hablu Programmer\"\n",
        "print(\"Hablu Programmer\")\n",
        "\n",
        "''' Modules\n",
        "1. Built-in\n",
        "2. User-defined\n",
        " (Third-party, installed using pip)\n",
        "'''\n",
        "\n",
        "print(\"\"\"A module is a Python file that you import to use functions and classes.\n",
        "pip is a tool that installs external Python libraries/modules.\"\"\")\n",
        "\n"
      ],
      "metadata": {
        "colab": {
          "base_uri": "https://localhost:8080/"
        },
        "id": "wn1zNXiBEhTW",
        "outputId": "38b05256-e499-4c6d-97d8-e1e8b802db94"
      },
      "execution_count": null,
      "outputs": [
        {
          "output_type": "stream",
          "name": "stdout",
          "text": [
            "Hablu Programmer\n",
            "A module is a Python file that you import to use functions and classes.\n",
            "pip is a tool that installs external Python libraries/modules.\n"
          ]
        }
      ]
    },
    {
      "cell_type": "markdown",
      "source": [
        "**Variable And Data Type**\n"
      ],
      "metadata": {
        "id": "HeHJNn0BJR8P"
      }
    },
    {
      "cell_type": "code",
      "source": [
        "name=\"Puja Bapari\" #str\n",
        "print(name)\n",
        "fvrt_number=+8801317933187 #int\n",
        "print(fvrt_number)"
      ],
      "metadata": {
        "colab": {
          "base_uri": "https://localhost:8080/"
        },
        "id": "demjga1iG4dq",
        "outputId": "21f0ddba-7bc3-478e-f837-90b3c5dd6bf6"
      },
      "execution_count": null,
      "outputs": [
        {
          "output_type": "stream",
          "name": "stdout",
          "text": [
            "Puja Bapari\n",
            "8801317933187\n"
          ]
        }
      ]
    },
    {
      "cell_type": "code",
      "source": [
        "#float type data\n",
        "X=222.3\n",
        "print(type(X))\n",
        "print(X)\n",
        "\n",
        "#complex type\n",
        "Y=3j\n",
        "print(type(Y))\n",
        "print(Y)"
      ],
      "metadata": {
        "colab": {
          "base_uri": "https://localhost:8080/"
        },
        "id": "jmZZZPoCJiY9",
        "outputId": "e2771d16-226d-4195-f749-862f2f759efa"
      },
      "execution_count": null,
      "outputs": [
        {
          "output_type": "stream",
          "name": "stdout",
          "text": [
            "<class 'float'>\n",
            "222.3\n",
            "<class 'complex'>\n",
            "3j\n"
          ]
        }
      ]
    },
    {
      "cell_type": "code",
      "source": [
        "first_name=\"Puja\"\n",
        "last_name=\"Bapari\"\n",
        "print(\"My name is:\"+ first_name)\n",
        "print(\"My name is:\",first_name,last_name)"
      ],
      "metadata": {
        "colab": {
          "base_uri": "https://localhost:8080/"
        },
        "id": "dJ4O_rmSLquA",
        "outputId": "ab3a3600-ba15-46bf-8469-98207fd0ad70"
      },
      "execution_count": null,
      "outputs": [
        {
          "output_type": "stream",
          "name": "stdout",
          "text": [
            "My name is:Puja\n",
            "My name is: Puja Bapari\n"
          ]
        }
      ]
    },
    {
      "cell_type": "code",
      "source": [
        "#Bool data type\n",
        "bool_1=True\n",
        "print(bool_1)\n",
        "print(type(bool_1))\n",
        "bool_2=False\n",
        "print(bool_2)\n",
        "print(type(bool_2))\n",
        "x=3\n",
        "y=9\n",
        "print(x==y)"
      ],
      "metadata": {
        "colab": {
          "base_uri": "https://localhost:8080/"
        },
        "id": "DjpQgb1yMXrm",
        "outputId": "440a8642-d583-40b2-b7cb-84e093f8e10e"
      },
      "execution_count": null,
      "outputs": [
        {
          "output_type": "stream",
          "name": "stdout",
          "text": [
            "True\n",
            "<class 'bool'>\n",
            "False\n",
            "<class 'bool'>\n",
            "False\n"
          ]
        }
      ]
    },
    {
      "cell_type": "code",
      "source": [
        "#format specifier\n",
        "num1=20\n",
        "num2=50\n",
        "print(\"This is my super numer:\",num1+num2)\n",
        "print(f\"This is my super numer {num2-num1}\")\n",
        "Username=\"Puja\"\n",
        "Id=\"222-35-1174\"\n",
        "print(f\"Hey This is {Username} and My student id is:{Id}\")"
      ],
      "metadata": {
        "colab": {
          "base_uri": "https://localhost:8080/"
        },
        "id": "onzZItiQTQci",
        "outputId": "8d831f93-c15b-474c-9224-c4a6a0599f0e"
      },
      "execution_count": null,
      "outputs": [
        {
          "output_type": "stream",
          "name": "stdout",
          "text": [
            "This is my super numer: 70\n",
            "This is my super numer 30\n",
            "Hey This is Puja and My student id is:222-35-1174\n"
          ]
        }
      ]
    },
    {
      "cell_type": "code",
      "source": [
        "# Define a list with values in the range 0-255\n",
        "id_list = [1, 3, 4, 6, 8, 10, 12, 13, 66, 78, 200]\n",
        "\n",
        "# Print the list\n",
        "print( id_list)\n",
        "print( type(id_list))"
      ],
      "metadata": {
        "colab": {
          "base_uri": "https://localhost:8080/"
        },
        "id": "K2hlWZLpUjFG",
        "outputId": "f94b6b34-74eb-4793-e643-f10029133e42"
      },
      "execution_count": null,
      "outputs": [
        {
          "output_type": "stream",
          "name": "stdout",
          "text": [
            "[1, 3, 4, 6, 8, 10, 12, 13, 66, 78, 200]\n",
            "<class 'list'>\n"
          ]
        }
      ]
    },
    {
      "cell_type": "code",
      "source": [
        "id_list1 = [ 12, 13, 66, 78, 200]\n",
        "b1=bytearray(id_list1)\n",
        "print( type(b1))\n",
        "b1[2]=100\n",
        "print(b1[2])"
      ],
      "metadata": {
        "colab": {
          "base_uri": "https://localhost:8080/"
        },
        "id": "br45wlLhYqsC",
        "outputId": "8b9104e3-3c2e-4b2e-c52e-ff881a2d202d"
      },
      "execution_count": null,
      "outputs": [
        {
          "output_type": "stream",
          "name": "stdout",
          "text": [
            "<class 'bytearray'>\n",
            "100\n"
          ]
        }
      ]
    },
    {
      "cell_type": "code",
      "source": [
        "x=None\n",
        "print(type(x))"
      ],
      "metadata": {
        "colab": {
          "base_uri": "https://localhost:8080/"
        },
        "id": "iITVN9JLZ2_M",
        "outputId": "bfee306e-b269-4513-f1e8-b9f9d6b3536e"
      },
      "execution_count": null,
      "outputs": [
        {
          "output_type": "stream",
          "name": "stdout",
          "text": [
            "<class 'NoneType'>\n"
          ]
        }
      ]
    },
    {
      "cell_type": "markdown",
      "source": [
        "**Sequence Type**\n",
        "\n",
        "list    \n",
        "#square brackets[]\n",
        "\n",
        "tuple   \n",
        "#parentheses()\n",
        "\n",
        "range\n",
        "\n",
        "Set    \n",
        "#curly brackets{}\n"
      ],
      "metadata": {
        "id": "D-8ZJCisa0q9"
      }
    },
    {
      "cell_type": "code",
      "source": [
        "#List type Data mutable =change valu\n",
        "list=[\"Apple\",\"Banana\",\"Cherry\"]\n",
        "list[1]=\"Mango\"\n",
        "print(list)\n",
        "print(type(list))"
      ],
      "metadata": {
        "colab": {
          "base_uri": "https://localhost:8080/"
        },
        "id": "vGIRE10famvq",
        "outputId": "c7ea7351-dc35-4c2d-a2bf-693c63eb027f"
      },
      "execution_count": null,
      "outputs": [
        {
          "output_type": "stream",
          "name": "stdout",
          "text": [
            "['Apple', 'Mango', 'Cherry']\n",
            "<class 'list'>\n"
          ]
        }
      ]
    },
    {
      "cell_type": "code",
      "source": [
        "#tuple type Data immutable =no change\n",
        "tuple=(\"Apple\",\"Banana\",\"Cherry\")\n",
        "print(tuple)\n",
        "print(type(tuple))"
      ],
      "metadata": {
        "colab": {
          "base_uri": "https://localhost:8080/"
        },
        "id": "HAxtaZoHbfaW",
        "outputId": "91e852ab-7f4c-42cf-dc74-38049dfc9964"
      },
      "execution_count": null,
      "outputs": [
        {
          "output_type": "stream",
          "name": "stdout",
          "text": [
            "('Apple', 'Banana', 'Cherry')\n",
            "<class 'tuple'>\n"
          ]
        }
      ]
    },
    {
      "cell_type": "code",
      "source": [],
      "metadata": {
        "id": "codU7tNNbwmP"
      },
      "execution_count": null,
      "outputs": []
    }
  ]
}