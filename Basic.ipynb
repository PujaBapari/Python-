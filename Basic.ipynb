{
  "nbformat": 4,
  "nbformat_minor": 0,
  "metadata": {
    "colab": {
      "provenance": [],
      "include_colab_link": true
    },
    "kernelspec": {
      "name": "python3",
      "display_name": "Python 3"
    },
    "language_info": {
      "name": "python"
    }
  },
  "cells": [
    {
      "cell_type": "markdown",
      "metadata": {
        "id": "view-in-github",
        "colab_type": "text"
      },
      "source": [
        "<a href=\"https://colab.research.google.com/github/PujaBapari/Python-/blob/main/Basic.ipynb\" target=\"_parent\"><img src=\"https://colab.research.google.com/assets/colab-badge.svg\" alt=\"Open In Colab\"/></a>"
      ]
    },
    {
      "cell_type": "markdown",
      "source": [
        "**What is Python ?**\n",
        "\n",
        "Python is a high-level, interpreted programming language known for its simplicity and readability\n"
      ],
      "metadata": {
        "id": "KZtfZevMBHwZ"
      }
    },
    {
      "cell_type": "code",
      "execution_count": null,
      "metadata": {
        "colab": {
          "base_uri": "https://localhost:8080/"
        },
        "id": "qcoHXRWP-K3g",
        "outputId": "52d89214-7b91-46a7-ff07-264335e90176"
      },
      "outputs": [
        {
          "output_type": "stream",
          "name": "stdout",
          "text": [
            "Hello World\n"
          ]
        }
      ],
      "source": [
        "print(\"Hello World\")"
      ]
    },
    {
      "cell_type": "code",
      "source": [
        "print(\"Puja Bapari\")"
      ],
      "metadata": {
        "id": "kiKiC1k1-RhP",
        "outputId": "75431c90-5a12-4510-cad6-7125a5edee5c",
        "colab": {
          "base_uri": "https://localhost:8080/"
        }
      },
      "execution_count": 2,
      "outputs": [
        {
          "output_type": "stream",
          "name": "stdout",
          "text": [
            "Puja Bapari\n"
          ]
        }
      ]
    },
    {
      "cell_type": "code",
      "source": [
        "print(+8801317933187)"
      ],
      "metadata": {
        "colab": {
          "base_uri": "https://localhost:8080/"
        },
        "id": "izKLmI26EYRx",
        "outputId": "919bfb3c-8662-458c-b838-0c8e765a67c1"
      },
      "execution_count": 23,
      "outputs": [
        {
          "output_type": "stream",
          "name": "stdout",
          "text": [
            "8801317933187\n"
          ]
        }
      ]
    },
    {
      "cell_type": "markdown",
      "source": [
        "**Comment**\n",
        "\n",
        "In Python, comments are used to explain.\n",
        "\n",
        "**Types**\n",
        "\n",
        " Single-line Comment (#)\n",
        "\n",
        " Multi-line Comment (Using \"\"\" \"\"\" or ''' ''')"
      ],
      "metadata": {
        "id": "SialmMdNFGvT"
      }
    },
    {
      "cell_type": "code",
      "source": [
        "# Python tutorial \"Hablu Programmer\"\n",
        "print(\"Hablu Programmer\")\n",
        "\n",
        "''' Modules\n",
        "1. Built-in\n",
        "2. User-defined\n",
        " (Third-party, installed using pip)\n",
        "'''\n",
        "\n",
        "print(\"\"\"A module is a Python file that you import to use functions and classes.\n",
        "pip is a tool that installs external Python libraries/modules.\"\"\")\n",
        "\n"
      ],
      "metadata": {
        "colab": {
          "base_uri": "https://localhost:8080/"
        },
        "id": "wn1zNXiBEhTW",
        "outputId": "38b05256-e499-4c6d-97d8-e1e8b802db94"
      },
      "execution_count": 16,
      "outputs": [
        {
          "output_type": "stream",
          "name": "stdout",
          "text": [
            "Hablu Programmer\n",
            "A module is a Python file that you import to use functions and classes.\n",
            "pip is a tool that installs external Python libraries/modules.\n"
          ]
        }
      ]
    },
    {
      "cell_type": "markdown",
      "source": [
        "**Variable And Data Type**\n"
      ],
      "metadata": {
        "id": "HeHJNn0BJR8P"
      }
    },
    {
      "cell_type": "code",
      "source": [
        "name=\"Puja Bapari\" #str\n",
        "print(name)\n",
        "fvrt_number=+8801317933187 #int\n",
        "print(fvrt_number)"
      ],
      "metadata": {
        "colab": {
          "base_uri": "https://localhost:8080/"
        },
        "id": "demjga1iG4dq",
        "outputId": "21f0ddba-7bc3-478e-f837-90b3c5dd6bf6"
      },
      "execution_count": 28,
      "outputs": [
        {
          "output_type": "stream",
          "name": "stdout",
          "text": [
            "Puja Bapari\n",
            "8801317933187\n"
          ]
        }
      ]
    },
    {
      "cell_type": "code",
      "source": [
        "#float type data\n",
        "X=222.3\n",
        "print(type(X))\n",
        "print(X)\n",
        "\n",
        "#complex type\n",
        "Y=3j\n",
        "print(type(Y))\n",
        "print(Y)"
      ],
      "metadata": {
        "id": "jmZZZPoCJiY9",
        "outputId": "e2771d16-226d-4195-f749-862f2f759efa",
        "colab": {
          "base_uri": "https://localhost:8080/"
        }
      },
      "execution_count": 31,
      "outputs": [
        {
          "output_type": "stream",
          "name": "stdout",
          "text": [
            "<class 'float'>\n",
            "222.3\n",
            "<class 'complex'>\n",
            "3j\n"
          ]
        }
      ]
    },
    {
      "cell_type": "code",
      "source": [
        "first_name=\"Puja\"\n",
        "last_name=\"Bapari\"\n",
        "print(\"My name is:\"+ first_name)\n",
        "print(\"My name is:\",first_name,last_name)"
      ],
      "metadata": {
        "id": "dJ4O_rmSLquA",
        "outputId": "ab3a3600-ba15-46bf-8469-98207fd0ad70",
        "colab": {
          "base_uri": "https://localhost:8080/"
        }
      },
      "execution_count": 37,
      "outputs": [
        {
          "output_type": "stream",
          "name": "stdout",
          "text": [
            "My name is:Puja\n",
            "My name is: Puja Bapari\n"
          ]
        }
      ]
    },
    {
      "cell_type": "code",
      "source": [],
      "metadata": {
        "id": "DjpQgb1yMXrm"
      },
      "execution_count": null,
      "outputs": []
    }
  ]
}